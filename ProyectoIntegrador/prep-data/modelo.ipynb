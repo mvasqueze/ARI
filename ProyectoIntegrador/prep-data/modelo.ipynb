{
 "cells": [
  {
   "cell_type": "code",
   "execution_count": null,
   "metadata": {},
   "outputs": [],
   "source": []
  },
  {
   "cell_type": "code",
   "execution_count": null,
   "metadata": {},
   "outputs": [],
   "source": [
    "import pandas as pd\n",
    "from merge_cedulas import fill_missing_info  # Importar función del repositorio\n",
    "from sklearn.feature_extraction.text import TfidfVectorizer\n",
    "from sklearn.cluster import KMeans\n",
    "import matplotlib.pyplot as plt\n",
    "\n",
    "filepath = \"C:/Users/Lenovo/Visual/ARI/ARI/Proyecto Integrador/prep-data/pcd_1211.csv\"\n",
    "\n",
    "# Cargar los datos (puedes reemplazar 'tu_archivo.csv' por el nombre de tu archivo de datos)\n",
    "df = pd.read_csv(filepath)\n",
    "\n",
    "# Unificar las columnas 'tipo de discapacidad' y 'Describa aqui el diagnostico medico'\n",
    "df['discapacidad_combinada'] = df['tipo de discapacidad'].fillna('') + ' ' + df['Describa aqui el diagnostico medico'].fillna('')\n",
    "\n",
    "# Limpiar los espacios adicionales\n",
    "df['discapacidad_combinada'] = df['discapacidad_combinada'].str.strip()\n",
    "\n",
    "# Completar información faltante usando la función del script 'merge_cedulas.py'\n",
    "df = fill_missing_info(df, 'Fecha de la encuesta')\n",
    "\n",
    "# Aplicar TF-IDF para vectorizar la columna 'discapacidad_combinada'\n",
    "tfidf_vectorizer = TfidfVectorizer(stop_words='spanish')\n",
    "tfidf_matrix = tfidf_vectorizer.fit_transform(df['discapacidad_combinada'])\n",
    "\n",
    "# Aplicar KMeans para agrupar pueblos con características similares respecto a las discapacidades\n",
    "num_clusters = 5  # Puedes ajustar el número de clusters según el análisis\n",
    "kmeans = KMeans(n_clusters=num_clusters, random_state=42)\n",
    "kmeans.fit(tfidf_matrix)\n",
    "\n",
    "# Añadir la etiqueta del cluster al dataframe\n",
    "df['cluster'] = kmeans.labels_\n",
    "\n",
    "# Visualizar la distribución de los clusters\n",
    "plt.figure(figsize=(10, 6))\n",
    "plt.hist(df['cluster'], bins=num_clusters, edgecolor='black')\n",
    "plt.xlabel('Cluster')\n",
    "plt.ylabel('Número de Pueblos')\n",
    "plt.title('Distribución de Clusters por Tipo de Discapacidad y Diagnóstico Médico')\n",
    "plt.show()\n",
    "\n",
    "# Guardar el nuevo dataset con la columna combinada y los clusters\n",
    "df.to_csv('datos_con_discapacidad_clusters.csv', index=False)\n"
   ]
  }
 ],
 "metadata": {
  "language_info": {
   "name": "python"
  }
 },
 "nbformat": 4,
 "nbformat_minor": 2
}
