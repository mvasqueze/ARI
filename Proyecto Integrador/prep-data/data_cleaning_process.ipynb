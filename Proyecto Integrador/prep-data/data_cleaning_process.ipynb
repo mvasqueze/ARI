{
 "cells": [
  {
   "cell_type": "markdown",
   "metadata": {},
   "source": [
    "Esto estaba en fuera_de_antioquia"
   ]
  },
  {
   "cell_type": "code",
   "execution_count": null,
   "metadata": {
    "vscode": {
     "languageId": "plaintext"
    }
   },
   "outputs": [],
   "source": [
    "def main():\n",
    "    # Example usage\n",
    "    # Read your Excel file\n",
    "    df = pd.read_excel(\"your_coordinates.xlsx\")\n",
    "    \n",
    "    # Validate coordinates\n",
    "    result = validate_coordinates(df)\n",
    "    \n",
    "    # Save results\n",
    "    result.to_excel(\"validated_coordinates.xlsx\", index=False)\n",
    "    \n",
    "    # Print summary\n",
    "    total_points = len(result)\n",
    "    valid_points = result['is_inside_antioquia'].sum()\n",
    "    print(f\"Total points: {total_points}\")\n",
    "    print(f\"Points inside Antioquia: {valid_points}\")\n",
    "    print(f\"Points outside Antioquia: {total_points - valid_points}\")\n",
    "\n",
    "if __name__ == \"__main__\":\n",
    "    main()"
   ]
  },
  {
   "cell_type": "markdown",
   "metadata": {},
   "source": [
    "## Pre-procesamiento\n",
    "\n",
    "Para asegurar un correcto procesamiento de los datos fue necesario hacer las siguientes modificaciones al documento original:\n",
    "\n",
    "### 1. **Limpieza de filas innecesarias:** \n",
    "El document original contaba con un encabezado que describía el título e incluía el logo de la gobernación. Estos espacios entorpecían el procesamiento de los datos.\n",
    "\n",
    "### 2. **Conversión a formato .csv utf-8:** \n",
    "Por facilidad de procesamiento fue necesario convertir el documento a .csv utf-8.\n",
    "\n",
    "### 3. **Rectificación de coordenadas**\n",
    "Inicialmente y con el fin de mejorar la velocidad de procesamiento se pensó en eliminaer duplicados como paso previo a la rectificación de coordenadas; sin embargo, debido a la posibilidad de perder información valiosa (en especial sobre las coordenadas, que es la prioridad), se ejecutó inicialmente este paso.\n",
    "\n",
    "El algoritmo para una correcta verificación de coordenadas debe ser:\n",
    "\n",
    "1. Dadas las coordenadas X y Y, verificar si el punto está dentro de Antioquia.\n",
    "    1.1. Si lo está, dejarlo así.\n",
    "    1.2. Si no lo está, buscar una dirección escrita en lenguaje natural y ver si cumple con el formato Calle xx #xx-xx. Si es así, procurar asignarle esa dirección a ese object id.\n",
    "        1.2.1. Si no cuena con una dirección en un formato estándar, asignarle la dirección por default de la vereda.\n",
    "\n",
    "Etapa 1: Buscar los que están fuera"
   ]
  },
  {
   "cell_type": "code",
   "execution_count": null,
   "metadata": {
    "vscode": {
     "languageId": "plaintext"
    }
   },
   "outputs": [],
   "source": []
  },
  {
   "cell_type": "code",
   "execution_count": null,
   "metadata": {
    "vscode": {
     "languageId": "plaintext"
    }
   },
   "outputs": [],
   "source": []
  },
  {
   "cell_type": "markdown",
   "metadata": {},
   "source": [
    "### 3. **Procesamiento de duplicados:**\n",
    "Inicialmente se tomó el acercamiento de conservar únicamente el registro más actual; sin embargo, hubo ocasiones en las que los registros más reciente contabas con campos vacíos y se perdí informacion relevante con la que ya contaban registros anteriores."
   ]
  }
 ],
 "metadata": {
  "language_info": {
   "name": "python"
  }
 },
 "nbformat": 4,
 "nbformat_minor": 2
}
