{
 "cells": [
  {
   "cell_type": "markdown",
   "metadata": {},
   "source": [
    "Esto estaba en fuera_de_antioquia"
   ]
  },
  {
   "cell_type": "code",
   "execution_count": null,
   "metadata": {
    "vscode": {
     "languageId": "plaintext"
    }
   },
   "outputs": [],
   "source": [
    "def main():\n",
    "    # Example usage\n",
    "    # Read your Excel file\n",
    "    df = pd.read_excel(\"your_coordinates.xlsx\")\n",
    "    \n",
    "    # Validate coordinates\n",
    "    result = validate_coordinates(df)\n",
    "    \n",
    "    # Save results\n",
    "    result.to_excel(\"validated_coordinates.xlsx\", index=False)\n",
    "    \n",
    "    # Print summary\n",
    "    total_points = len(result)\n",
    "    valid_points = result['is_inside_antioquia'].sum()\n",
    "    print(f\"Total points: {total_points}\")\n",
    "    print(f\"Points inside Antioquia: {valid_points}\")\n",
    "    print(f\"Points outside Antioquia: {total_points - valid_points}\")\n",
    "\n",
    "if __name__ == \"__main__\":\n",
    "    main()"
   ]
  }
 ],
 "metadata": {
  "language_info": {
   "name": "python"
  }
 },
 "nbformat": 4,
 "nbformat_minor": 2
}
