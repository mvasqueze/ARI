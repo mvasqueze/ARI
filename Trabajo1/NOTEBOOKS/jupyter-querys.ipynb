{
 "cells": [
  {
   "cell_type": "code",
   "execution_count": 1,
   "id": "7b4b3abf",
   "metadata": {
    "scrolled": true
   },
   "outputs": [
    {
     "name": "stdout",
     "output_type": "stream",
     "text": [
      "Starting Spark application\n"
     ]
    },
    {
     "data": {
      "text/html": [
       "<table>\n",
       "<tr><th>ID</th><th>YARN Application ID</th><th>Kind</th><th>State</th><th>Spark UI</th><th>Driver log</th><th>User</th><th>Current session?</th></tr><tr><td>0</td><td>application_1725823912936_0002</td><td>pyspark</td><td>idle</td><td><a target=\"_blank\" href=\"http://ip-172-31-39-217.ec2.internal:20888/proxy/application_1725823912936_0002/\">Link</a></td><td><a target=\"_blank\" href=\"http://ip-172-31-45-83.ec2.internal:8042/node/containerlogs/container_1725823912936_0002_01_000001/livy\">Link</a></td><td>None</td><td>✔</td></tr></table>"
      ],
      "text/plain": [
       "<IPython.core.display.HTML object>"
      ]
     },
     "metadata": {},
     "output_type": "display_data"
    },
    {
     "data": {
      "application/vnd.jupyter.widget-view+json": {
       "model_id": "",
       "version_major": 2,
       "version_minor": 0
      },
      "text/plain": [
       "FloatProgress(value=0.0, bar_style='info', description='Progress:', layout=Layout(height='25px', width='50%'),…"
      ]
     },
     "metadata": {},
     "output_type": "display_data"
    },
    {
     "name": "stdout",
     "output_type": "stream",
     "text": [
      "SparkSession available as 'spark'.\n"
     ]
    },
    {
     "data": {
      "application/vnd.jupyter.widget-view+json": {
       "model_id": "",
       "version_major": 2,
       "version_minor": 0
      },
      "text/plain": [
       "FloatProgress(value=0.0, bar_style='info', description='Progress:', layout=Layout(height='25px', width='50%'),…"
      ]
     },
     "metadata": {},
     "output_type": "display_data"
    },
    {
     "name": "stdout",
     "output_type": "stream",
     "text": [
      "<pyspark.sql.session.SparkSession object at 0x7f5f93feda90>"
     ]
    }
   ],
   "source": [
    "spark"
   ]
  },
  {
   "cell_type": "code",
   "execution_count": 2,
   "id": "526f35b3",
   "metadata": {
    "scrolled": true
   },
   "outputs": [
    {
     "data": {
      "application/vnd.jupyter.widget-view+json": {
       "model_id": "",
       "version_major": 2,
       "version_minor": 0
      },
      "text/plain": [
       "FloatProgress(value=0.0, bar_style='info', description='Progress:', layout=Layout(height='25px', width='50%'),…"
      ]
     },
     "metadata": {},
     "output_type": "display_data"
    },
    {
     "name": "stdout",
     "output_type": "stream",
     "text": [
      "<SparkContext master=yarn appName=livy-session-0>"
     ]
    }
   ],
   "source": [
    "sc"
   ]
  },
  {
   "cell_type": "code",
   "execution_count": 3,
   "id": "c6311701",
   "metadata": {},
   "outputs": [
    {
     "data": {
      "application/vnd.jupyter.widget-view+json": {
       "model_id": "",
       "version_major": 2,
       "version_minor": 0
      },
      "text/plain": [
       "FloatProgress(value=0.0, bar_style='info', description='Progress:', layout=Layout(height='25px', width='50%'),…"
      ]
     },
     "metadata": {},
     "output_type": "display_data"
    },
    {
     "name": "stdout",
     "output_type": "stream",
     "text": [
      "+--------------+\n",
      "|     namespace|\n",
      "+--------------+\n",
      "|       default|\n",
      "| myspectrum_db|\n",
      "|rawtotrusteddb|\n",
      "+--------------+"
     ]
    }
   ],
   "source": [
    "spark.sql(\"show databases\").show()"
   ]
  },
  {
   "cell_type": "code",
   "execution_count": 4,
   "id": "388d7d15",
   "metadata": {},
   "outputs": [
    {
     "data": {
      "application/vnd.jupyter.widget-view+json": {
       "model_id": "",
       "version_major": 2,
       "version_minor": 0
      },
      "text/plain": [
       "FloatProgress(value=0.0, bar_style='info', description='Progress:', layout=Layout(height='25px', width='50%'),…"
      ]
     },
     "metadata": {},
     "output_type": "display_data"
    },
    {
     "name": "stdout",
     "output_type": "stream",
     "text": [
      "DataFrame[]"
     ]
    }
   ],
   "source": [
    "# Set the database context\n",
    "spark.sql(\"USE rawtotrusteddb\")"
   ]
  },
  {
   "cell_type": "code",
   "execution_count": 5,
   "id": "84cd090d",
   "metadata": {},
   "outputs": [
    {
     "data": {
      "application/vnd.jupyter.widget-view+json": {
       "model_id": "",
       "version_major": 2,
       "version_minor": 0
      },
      "text/plain": [
       "FloatProgress(value=0.0, bar_style='info', description='Progress:', layout=Layout(height='25px', width='50%'),…"
      ]
     },
     "metadata": {},
     "output_type": "display_data"
    },
    {
     "name": "stdout",
     "output_type": "stream",
     "text": [
      "+--------------+--------------------+-----------+\n",
      "|     namespace|           tableName|isTemporary|\n",
      "+--------------+--------------------+-----------+\n",
      "|rawtotrusteddb|climate_change_in...|      false|\n",
      "|rawtotrusteddb|climate_change_in...|      false|\n",
      "|rawtotrusteddb|climate_change_vi...|      false|\n",
      "|rawtotrusteddb|       co2_emissions|      false|\n",
      "|rawtotrusteddb|co2_emissions_tru...|      false|\n",
      "|rawtotrusteddb|    sea_level_change|      false|\n",
      "|rawtotrusteddb|sea_level_change_...|      false|\n",
      "+--------------+--------------------+-----------+"
     ]
    }
   ],
   "source": [
    "# Run a query on a table in the selected database\n",
    "spark.sql(\"SHOW TABLES\").show()\n"
   ]
  },
  {
   "cell_type": "code",
   "execution_count": 20,
   "id": "32bc6fcf",
   "metadata": {
    "scrolled": true
   },
   "outputs": [
    {
     "data": {
      "application/vnd.jupyter.widget-view+json": {
       "model_id": "",
       "version_major": 2,
       "version_minor": 0
      },
      "text/plain": [
       "FloatProgress(value=0.0, bar_style='info', description='Progress:', layout=Layout(height='25px', width='50%'),…"
      ]
     },
     "metadata": {},
     "output_type": "display_data"
    },
    {
     "name": "stdout",
     "output_type": "stream",
     "text": [
      "+--------------------+------------------------------------+------------------------------------+------------------------------------+------------------------------------+\n",
      "|                year|siro_-_adjusted_sea_level__inches_#0|csiro_-_lower_error_bound__inches_#1|csiro_-_upper_error_bound__inches_#2|noaa_-_adjusted_sea_level__inches_#3|\n",
      "+--------------------+------------------------------------+------------------------------------+------------------------------------+------------------------------------+\n",
      "|Figure 1. Global ...|                          Unnamed: 1|                          Unnamed: 2|                          Unnamed: 3|                          Unnamed: 4|\n",
      "|Source: EPA's Cli...|                                    |                                    |                                    |                                    |\n",
      "|Data source: CSIR...|                                    |                                    |                                    |                                    |\n",
      "|Web update: June ...|                                    |                                    |                                    |                                    |\n",
      "|       Units: inches|                                    |                                    |                                    |                                    |\n",
      "|                    |                                    |                                    |                                    |                                    |\n",
      "|                Year|                CSIRO - Adjusted ...|                CSIRO - Lower err...|                CSIRO - Upper err...|                NOAA - Adjusted s...|\n",
      "|                1880|                                   0|                        -0.952755905|                         0.952755905|                                    |\n",
      "|                1881|                         0.220472441|                        -0.732283464|                         1.173228345|                                    |\n",
      "|                1882|                        -0.440944881|                        -1.346456692|                         0.464566929|                                    |\n",
      "|                1883|                        -0.232283464|                        -1.129921259|                          0.66535433|                                    |\n",
      "|                1884|                         0.590551181|                        -0.283464567|                         1.464566928|                                    |\n",
      "|                1885|                         0.531496062|                        -0.330708661|                         1.393700786|                                    |\n",
      "|                1886|                         0.437007874|                        -0.381889763|                         1.255905511|                                    |\n",
      "|                1887|                         0.216535433|                        -0.602362204|                          1.03543307|                                    |\n",
      "|                1888|                         0.299212598|                        -0.519685039|                         1.118110235|                                    |\n",
      "|                1889|                         0.362204724|                        -0.456692913|                         1.181102361|                                    |\n",
      "|                1890|                         0.440944881|                        -0.374015748|                         1.255905511|                                    |\n",
      "|                1891|                         0.374015748|                        -0.440944881|                         1.188976377|                                    |\n",
      "|                1892|                         0.499999999|                         -0.31496063|                         1.314960629|                                    |\n",
      "+--------------------+------------------------------------+------------------------------------+------------------------------------+------------------------------------+\n",
      "only showing top 20 rows"
     ]
    }
   ],
   "source": [
    "spark.sql(\"SELECT * FROM  sea_level_change_trusted\").show()"
   ]
  },
  {
   "cell_type": "code",
   "execution_count": 25,
   "id": "6579e95f",
   "metadata": {},
   "outputs": [
    {
     "data": {
      "application/vnd.jupyter.widget-view+json": {
       "model_id": "",
       "version_major": 2,
       "version_minor": 0
      },
      "text/plain": [
       "FloatProgress(value=0.0, bar_style='info', description='Progress:', layout=Layout(height='25px', width='50%'),…"
      ]
     },
     "metadata": {},
     "output_type": "display_data"
    },
    {
     "name": "stdout",
     "output_type": "stream",
     "text": [
      "+----+------------------------+-----------------------+--------------------+\n",
      "|Year|CSIRO_Adjusted_Sea_Level|NOAA_Adjusted_Sea_Level|Sea_Level_Difference|\n",
      "+----+------------------------+-----------------------+--------------------+\n",
      "|1993|6.291338576             |6.297493046            |0.006154469999999357|\n",
      "|1994|6.499999993             |6.310933553            |-0.1890664400000004 |\n",
      "|1995|6.618110229             |6.452568661            |-0.16554156800000008|\n",
      "|1996|6.787401568             |6.62763131             |-0.159770258        |\n",
      "|1997|7.066929127             |6.733920367            |-0.33300876000000024|\n",
      "|1998|6.665354324             |6.865806069            |0.20045174499999963 |\n",
      "|1999|7.011811016             |6.848689771            |-0.16312124500000014|\n",
      "|2000|7.062992119             |6.920582014            |-0.14241010499999973|\n",
      "|2001|7.287401567             |7.087460011            |-0.19994155599999974|\n",
      "|2002|7.381889756             |7.319697525            |-0.06219223100000004|\n",
      "|2003|7.759842512             |7.488352718            |-0.27148979399999984|\n",
      "|2004|7.740157472             |7.507932839            |-0.23222463299999951|\n",
      "|2005|7.74409448              |7.644563144            |-0.09953133600000008|\n",
      "|2006|7.917322827             |7.697420009            |-0.21990281799999956|\n",
      "|2007|7.996062984             |7.70214715             |-0.2939158339999999 |\n",
      "|2008|8.350393692             |7.90736541             |-0.4430282820000011 |\n",
      "|2009|8.586614164             |8.04635409             |-0.5402600740000008 |\n",
      "|2010|8.901574794             |8.122972567            |-0.7786022270000004 |\n",
      "|2011|8.96456692              |8.053065004            |-0.9115019159999989 |\n",
      "|2012|9.326771644             |8.457057629            |-0.8697140150000013 |\n",
      "+----+------------------------+-----------------------+--------------------+\n",
      "only showing top 20 rows\n",
      "\n",
      "+----+------------------------+-----------------------+--------------------+\n",
      "|Year|CSIRO_Adjusted_Sea_Level|NOAA_Adjusted_Sea_Level|Sea_Level_Difference|\n",
      "+----+------------------------+-----------------------+--------------------+\n",
      "|1993|6.291338576             |6.297493046            |0.006154469999999357|\n",
      "|1994|6.499999993             |6.310933553            |-0.1890664400000004 |\n",
      "|1995|6.618110229             |6.452568661            |-0.16554156800000008|\n",
      "|1996|6.787401568             |6.62763131             |-0.159770258        |\n",
      "|1997|7.066929127             |6.733920367            |-0.33300876000000024|\n",
      "|1998|6.665354324             |6.865806069            |0.20045174499999963 |\n",
      "|1999|7.011811016             |6.848689771            |-0.16312124500000014|\n",
      "|2000|7.062992119             |6.920582014            |-0.14241010499999973|\n",
      "|2001|7.287401567             |7.087460011            |-0.19994155599999974|\n",
      "|2002|7.381889756             |7.319697525            |-0.06219223100000004|\n",
      "|2003|7.759842512             |7.488352718            |-0.27148979399999984|\n",
      "|2004|7.740157472             |7.507932839            |-0.23222463299999951|\n",
      "|2005|7.74409448              |7.644563144            |-0.09953133600000008|\n",
      "|2006|7.917322827             |7.697420009            |-0.21990281799999956|\n",
      "|2007|7.996062984             |7.70214715             |-0.2939158339999999 |\n",
      "|2008|8.350393692             |7.90736541             |-0.4430282820000011 |\n",
      "|2009|8.586614164             |8.04635409             |-0.5402600740000008 |\n",
      "|2010|8.901574794             |8.122972567            |-0.7786022270000004 |\n",
      "|2011|8.96456692              |8.053065004            |-0.9115019159999989 |\n",
      "|2012|9.326771644             |8.457057629            |-0.8697140150000013 |\n",
      "+----+------------------------+-----------------------+--------------------+\n",
      "only showing top 20 rows"
     ]
    }
   ],
   "source": [
    "from pyspark.sql.functions import col, when, regexp_replace\n",
    "\n",
    "# Define the SQL query with escaped column names\n",
    "sql_query = \"\"\"\n",
    "SELECT \n",
    "    CAST(year AS INT) AS Year,\n",
    "    CAST(NULLIF(regexp_replace(`siro_-_adjusted_sea_level__inches_#0`, '[^0-9.-]', ''), '') AS DOUBLE) AS CSIRO_Adjusted_Sea_Level,\n",
    "    CAST(NULLIF(regexp_replace(`noaa_-_adjusted_sea_level__inches_#3`, '[^0-9.-]', ''), '') AS DOUBLE) AS NOAA_Adjusted_Sea_Level,\n",
    "    CAST(NULLIF(regexp_replace(`noaa_-_adjusted_sea_level__inches_#3`, '[^0-9.-]', ''), '') AS DOUBLE) - \n",
    "    CAST(NULLIF(regexp_replace(`siro_-_adjusted_sea_level__inches_#0`, '[^0-9.-]', ''), '') AS DOUBLE) AS Sea_Level_Difference\n",
    "FROM \n",
    "    rawtotrusteddb.sea_level_change_trusted\n",
    "WHERE \n",
    "    CAST(year AS INT) BETWEEN 1880 AND 2013\n",
    "    AND `siro_-_adjusted_sea_level__inches_#0` != ''\n",
    "    AND `noaa_-_adjusted_sea_level__inches_#3` != ''\n",
    "ORDER BY \n",
    "    Year ASC\n",
    "\"\"\"\n",
    "\n",
    "# Execute the query and show results\n",
    "result = spark.sql(sql_query)\n",
    "result.show(truncate=False)\n",
    "\n",
    "# Optional: If you want to perform further operations using DataFrame API\n",
    "df = spark.table(\"rawtotrusteddb.sea_level_change_trusted\")\n",
    "df_filtered = df.filter(\n",
    "    (col(\"year\").cast(\"int\").between(1880, 2013)) &\n",
    "    (col(\"`siro_-_adjusted_sea_level__inches_#0`\") != '') &\n",
    "    (col(\"`noaa_-_adjusted_sea_level__inches_#3`\") != '')\n",
    ").select(\n",
    "    col(\"year\").cast(\"int\").alias(\"Year\"),\n",
    "    when(col(\"`siro_-_adjusted_sea_level__inches_#0`\") != '', \n",
    "         regexp_replace(col(\"`siro_-_adjusted_sea_level__inches_#0`\"), \"[^0-9.-]\", \"\").cast(\"double\"))\n",
    "        .alias(\"CSIRO_Adjusted_Sea_Level\"),\n",
    "    when(col(\"`noaa_-_adjusted_sea_level__inches_#3`\") != '', \n",
    "         regexp_replace(col(\"`noaa_-_adjusted_sea_level__inches_#3`\"), \"[^0-9.-]\", \"\").cast(\"double\"))\n",
    "        .alias(\"NOAA_Adjusted_Sea_Level\")\n",
    ").withColumn(\n",
    "    \"Sea_Level_Difference\",\n",
    "    col(\"NOAA_Adjusted_Sea_Level\") - col(\"CSIRO_Adjusted_Sea_Level\")\n",
    ").orderBy(\"Year\")\n",
    "\n",
    "df_filtered.show(truncate=False)"
   ]
  },
  {
   "cell_type": "code",
   "execution_count": 23,
   "id": "a753c5c7",
   "metadata": {},
   "outputs": [
    {
     "data": {
      "application/vnd.jupyter.widget-view+json": {
       "model_id": "",
       "version_major": 2,
       "version_minor": 0
      },
      "text/plain": [
       "FloatProgress(value=0.0, bar_style='info', description='Progress:', layout=Layout(height='25px', width='50%'),…"
      ]
     },
     "metadata": {},
     "output_type": "display_data"
    },
    {
     "name": "stdout",
     "output_type": "stream",
     "text": [
      "+----------------------+----------+----------+-----------------------+------------------+\n",
      "|country               |iso_code_2|iso_code_3|temperature_change_2003|co2_emissions_2003|\n",
      "+----------------------+----------+----------+-----------------------+------------------+\n",
      "|Angola                |AO        |AGO       |0.889                  |0.924988063014922 |\n",
      "|Albania               |AL        |ALB       |0.97                   |1.3611587779509   |\n",
      "|United Arab Emirates  |AE        |ARE       |1.052                  |27.2248726413375  |\n",
      "|Argentina             |AR        |ARG       |0.635                  |3.33489087930132  |\n",
      "|American Samoa        |AS        |ASM       |0.716                  |null              |\n",
      "|Antigua and Barbuda   |AG        |ATG       |0.783                  |4.6199167467179   |\n",
      "|Australia             |AU        |AUS       |0.835                  |17.8945391341105  |\n",
      "|Austria               |AT        |AUT       |1.464                  |9.16931675643542  |\n",
      "|Burundi               |BI        |BDI       |1.032                  |0.0249531909038623|\n",
      "|Belgium               |BE        |BEL       |1.526                  |11.1315169148275  |\n",
      "|Benin                 |BJ        |BEN       |0.936                  |0.318988595165453 |\n",
      "|Burkina Faso          |BF        |BFA       |0.986                  |0.0846070604165229|\n",
      "|Bangladesh            |BD        |BGD       |0.239                  |0.2097371984069   |\n",
      "|Bulgaria              |BG        |BGR       |0.181                  |6.16479538416841  |\n",
      "|Bahamas, The          |BS        |BHS       |0.989                  |6.25129250494845  |\n",
      "|Bosnia and Herzegovina|BA        |BIH       |1.088                  |3.55455634732132  |\n",
      "|Belize                |BZ        |BLZ       |0.948                  |1.70531594936325  |\n",
      "|Bolivia               |BO        |BOL       |0.641                  |0.980272657274545 |\n",
      "|Brazil                |BR        |BRA       |0.927                  |1.70185253648103  |\n",
      "|Barbados              |BB        |BRB       |0.888                  |4.67254083192834  |\n",
      "+----------------------+----------+----------+-----------------------+------------------+\n",
      "only showing top 20 rows"
     ]
    }
   ],
   "source": [
    "sql_query = \"\"\"\n",
    "SELECT \n",
    "    t1.country AS country,\n",
    "    t1.iso2 AS iso_code_2,\n",
    "    t1.iso3 AS iso_code_3,\n",
    "    t1.f2003 AS temperature_change_2003, \n",
    "    t2.value AS co2_emissions_2003\n",
    "FROM \n",
    "    rawtotrusteddb.climate_change_indicators_trusted t1\n",
    "JOIN \n",
    "    rawtotrusteddb.co2_emissions_trusted t2\n",
    "    ON t1.country = t2.`country_or_area#0`\n",
    "WHERE \n",
    "    t2.year = 2003\n",
    "\"\"\"\n",
    "\n",
    "result = spark.sql(sql_query)\n",
    "result.show(truncate=False)"
   ]
  },
  {
   "cell_type": "code",
   "execution_count": null,
   "id": "63184ae6",
   "metadata": {},
   "outputs": [],
   "source": []
  }
 ],
 "metadata": {
  "kernelspec": {
   "display_name": "PySpark",
   "language": "python",
   "name": "pysparkkernel"
  },
  "language_info": {
   "codemirror_mode": {
    "name": "python",
    "version": 3
   },
   "file_extension": ".py",
   "mimetype": "text/x-python",
   "name": "pyspark",
   "pygments_lexer": "python3"
  }
 },
 "nbformat": 4,
 "nbformat_minor": 5
}
